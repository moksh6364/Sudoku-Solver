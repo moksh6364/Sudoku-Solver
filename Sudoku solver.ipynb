{
 "cells": [
  {
   "cell_type": "code",
   "execution_count": 8,
   "id": "65da4c1b",
   "metadata": {},
   "outputs": [],
   "source": [
    "board = [[9,0,7,3,0,6,0,0,0],\n",
    "        [0,2,1,5,0,0,0,3,0],\n",
    "        [0,0,0,0,0,9,0,0,4],\n",
    "        [6,1,8,0,5,3,9,7,0],\n",
    "        [5,0,9,0,2,8,3,4,1],\n",
    "        [0,0,0,0,7,1,0,0,6],\n",
    "        [0,9,6,0,0,0,4,0,5],\n",
    "        [2,0,0,1,0,0,0,0,0],\n",
    "        [0,0,0,0,0,5,2,9,0]]"
   ]
  },
  {
   "cell_type": "code",
   "execution_count": 9,
   "id": "74121244",
   "metadata": {},
   "outputs": [],
   "source": [
    "def print_board(boa):\n",
    "    for i in range(len(boa)):\n",
    "        if i % 3 == 0 and  i != 0:\n",
    "            print(\"------------------------\")\n",
    "            \n",
    "        for j in range (len(boa[0])):\n",
    "            if j % 3 == 0 and j != 0:\n",
    "                print(\" | \", end=\"\")\n",
    "                \n",
    "            if j == 8:\n",
    "                print(boa[i][j])\n",
    "            else:\n",
    "                print(str(boa[i][j]) + \" \", end=\"\")\n",
    "                \n",
    "def find_empty(boa):\n",
    "    for i in range (len(boa)):\n",
    "        for j in range(len(boa[0])):\n",
    "            if boa[i][j] == 0:\n",
    "                return (i,j)"
   ]
  },
  {
   "cell_type": "code",
   "execution_count": 10,
   "id": "0c29d6bf",
   "metadata": {},
   "outputs": [],
   "source": [
    "def valid(boa, pos, num):\n",
    "    \n",
    "    for i in range(0, len(boa)):        # Check row\n",
    "        if boa[pos[0]][i] == num and pos[1] != i:\n",
    "            return False\n",
    "\n",
    "    for i in range(0, len(boa)):        # Check Col\n",
    "        if boa[i][pos[1]] == num and pos[1] != i:\n",
    "            return False\n",
    "\n",
    "    box_x = pos[1]//3                  # Check box\n",
    "    box_y = pos[0]//3\n",
    "\n",
    "    for i in range(box_y*3, box_y*3 + 3):\n",
    "        for j in range(box_x*3, box_x*3 + 3):\n",
    "            if boa[i][j] == num and (i,j) != pos:\n",
    "                return False\n",
    "\n",
    "    return True"
   ]
  },
  {
   "cell_type": "code",
   "execution_count": 11,
   "id": "77aff509",
   "metadata": {},
   "outputs": [],
   "source": [
    "def solve(boa):\n",
    "    find = find_empty(boa)\n",
    "    if find:\n",
    "        row, col = find\n",
    "    else:\n",
    "        return True\n",
    "        \n",
    "    for i in range(1,10):\n",
    "        if valid(boa, (row,col),i):\n",
    "            boa[row][col] = i\n",
    "            \n",
    "            if solve(boa):\n",
    "                return True\n",
    "        \n",
    "            boa[row][col] = 0\n",
    "        \n",
    "    return False "
   ]
  },
  {
   "cell_type": "code",
   "execution_count": 12,
   "id": "29313d72",
   "metadata": {},
   "outputs": [
    {
     "name": "stdout",
     "output_type": "stream",
     "text": [
      "Here's sukodu\n",
      "9 0 7  | 3 0 6  | 0 0 0\n",
      "0 2 1  | 5 0 0  | 0 3 0\n",
      "0 0 0  | 0 0 9  | 0 0 4\n",
      "------------------------\n",
      "6 1 8  | 0 5 3  | 9 7 0\n",
      "5 0 9  | 0 2 8  | 3 4 1\n",
      "0 0 0  | 0 7 1  | 0 0 6\n",
      "------------------------\n",
      "0 9 6  | 0 0 0  | 4 0 5\n",
      "2 0 0  | 1 0 0  | 0 0 0\n",
      "0 0 0  | 0 0 5  | 2 9 0\n",
      "**************************\n",
      "Solution is:\n",
      "9 5 7  | 3 4 6  | 1 2 8\n",
      "4 2 1  | 5 8 7  | 6 3 9\n",
      "8 6 3  | 2 1 9  | 7 5 4\n",
      "------------------------\n",
      "6 1 8  | 4 5 3  | 9 7 2\n",
      "5 7 9  | 6 2 8  | 3 4 1\n",
      "3 4 2  | 9 7 1  | 5 8 6\n",
      "------------------------\n",
      "7 9 6  | 8 3 2  | 4 1 5\n",
      "2 3 5  | 1 9 4  | 8 6 7\n",
      "1 8 4  | 7 6 5  | 2 9 3\n"
     ]
    }
   ],
   "source": [
    "print(\"Here's sukodu\")\n",
    "print_board(board)\n",
    "print(\"**************************\")\n",
    "print(\"Solution is:\")\n",
    "solve(board)\n",
    "print_board(board)"
   ]
  },
  {
   "cell_type": "code",
   "execution_count": null,
   "id": "e1370133",
   "metadata": {},
   "outputs": [],
   "source": []
  }
 ],
 "metadata": {
  "kernelspec": {
   "display_name": "Python 3 (ipykernel)",
   "language": "python",
   "name": "python3"
  },
  "language_info": {
   "codemirror_mode": {
    "name": "ipython",
    "version": 3
   },
   "file_extension": ".py",
   "mimetype": "text/x-python",
   "name": "python",
   "nbconvert_exporter": "python",
   "pygments_lexer": "ipython3",
   "version": "3.9.7"
  }
 },
 "nbformat": 4,
 "nbformat_minor": 5
}
